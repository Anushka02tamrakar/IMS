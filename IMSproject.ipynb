{
  "nbformat": 4,
  "nbformat_minor": 0,
  "metadata": {
    "colab": {
      "name": "IMSproject.ipynb",
      "provenance": [],
      "collapsed_sections": []
    },
    "kernelspec": {
      "name": "python3",
      "display_name": "Python 3"
    },
    "language_info": {
      "name": "python"
    }
  },
  "cells": [
    {
      "cell_type": "code",
      "metadata": {
        "id": "kpFuEqK8t0H-"
      },
      "source": [
        "record = { 12601 : {\"product name\": \"android\", \"Price\": 16000, \"quantity\": 300, \"Color\": \"Blue\", \"warrenty\": \"eleven months\"},\n",
        "           12602 : {\"product name\": \"Mac\", \"Price\": 50000, \"quantity\": 200, \"Color\": \"white\", \"warrenty\": \"one year\"},\n",
        "           12603 : {\"Product Name\" : \"chocolate\", \"quantity\" : 80, \"price\" : 40, \"MFD\": 16/21, \"exp\": \"four months from MFD\"},\n",
        "           12604 : {\"Product Name\" : \"Drink\", \"quantity\" : 70, \"price\" : 30, \"MFD\": 12/21, \"exp\": \"four months from MFD\"},\n",
        "           12605 : {\"Product Name\" : \"Milk Cake\", \"quantity\" : 30, \"price\" : 50, \"Main Ingrediants\": \"milk, bread,vinegar\", \"type\": \"black Forest\"},\n",
        "           12606 : {\"Product Name\" : \"candy\", \"quantity\" : 100, \"price\" : 20, \"MFD\": 13/21, \"exp\": \"four months from MFD\", \"Flavour\": \"Mango\"},\n",
        "           12607 : {\"Product Name\" : \"Chips\", \"quantity\" : 70, \"price\" : 10, \"MFD\": 26/21, \"exp\": \"four months from MFD\"},\n",
        "           12608 : {\"Product Name\" : \"Burger\", \"quantity\" : 20, \"price\" : 110, \"Discount\": \"five percent\", \"Ingrediants\": \"veg,bread,souce\", \"Type\": \"veg \"},\n",
        "           12609 : {\"Product Name\" : \"pen\", \"quantity\" : 80, \"price\" : 10, \"company\": \"elkos\"},\n",
        "           12610 : {\"Product Name\" : \"Notebook\", \"quantity\" : 70, \"price\" : 55, \"MFD\": 12/21, \"pages\": 210},\n",
        "           12611 : {\"Product Name\" : \"Book\", \"quantity\" : 40, \"price\" : 500, \"name of book\": \"let us C\",\"Publish Date\": 12/18},\n",
        "           12612 : {\"Product Name\" : \"Drink\", \"quantity\" : 70, \"price\" : 30, \"MFD\": 12/21, \"exp\": \"four months from MFD\"},\n",
        "           12613 : {\"Product Name\" : \"eye drop\", \"quantity\" :70, \"price\" : 75, \"MFD\": 12/20, \"exp\": \"6 months from MFD\"},\n",
        "           12614 : {\"Product Name\" : \"Karaoke mic\", \"quantity\" : 20, \"price\" : 600, \"Microphone\": \"Capacitance\"},\n",
        "           12615 : {\"Product Name\" : \"Trousers\", \"quantity\" : 20, \"price\" : 300, \"Type\": \"fabric\"},         \n",
        "           12616 : {\"Product Name\" : \"table\", \"quantity\" : 20, \"price\" : 700, \"discount\": \"ten percent\", \"Color\": \"Brown\"},\n",
        "           12617 : {\"Product Name\" : \"Magnifiers\", \"quantity\" : 90, \"price\" : 700, \"Color\": \"Silver\"},\n",
        "           12618 : {\"Product Name\" : \"table\", \"quantity\" : 20, \"price\" : 700, \"Type\": \"Wooden\", \"Color\": \"Brown\"},\n",
        "           12619 : {\"Product Name\" : \"Utensils\", \"quantity\" : 50, \"price\" : 700, \"type\": \"Metallic\", \"Color\": \"Brown\"},\n",
        "           12620 : {\"Product Name\" : \"Bags\", \"quantity\" : 20 ,\"price\" : 1000, \"cloth type\": \"cotton mix\", \"Color\": \"Blue\"},\n",
        "           12621 : {\"Product Name\" : \"Blankets\", \"quantity\" : 70,\"price\" : 900, \"rating\": \"four\", \"Color\": \"Brown\"},\n",
        "           12622 : {\"Product Name\" : \"Pillow\", \"quantity\" : 90, \"price\" : 800, \"type\": \"Fabric\", \"Color\": \"Red\"},\n",
        "           12623 : {\"Product Name\" : \"Chair\", \"quantity\" : 80, \"price\" : 400, \"discount\": \"ten percent\", \"Color\": \"Yellow\"},\n",
        "           12624 : {\"Product Name\" : \"toys\", \"quantity\" : 780 ,\"price\" : 250,  \"type\": \"electric\",\"Material used\": \"plastic, Rubber\"},\n",
        "           12625 : {\"Product Name\" : \"table lamp\", \"quantity\" : 20, \"price\" : 800, \"Color\": \"Black\", \"type\": \"Battery\"},\n",
        "           12626 : {\"Product Name\" : \"AC\", \"quantity\" : 20,\"price\" : 40000, \"discount\": \"thirty percent\", \"Color\": \"White\"},\n",
        "           12627 : {\"Product Name\" : \"Cooler\", \"quantity\" : 70 ,\"price\" : 10000, \"Color\": \"Brown\"},\n",
        "           12628 : {\"Product Name\" : \"Snacks and Branded foods\", \"quantity\": 50, \"Discount\": \"30%\" , \"Price\": 999,\"Type\": \"Chilli + Goodness of Tomatoes\"},\n",
        "           12629 : {\"Product Name\" : \"Biscuits & Cookies\", \"quantity\" : 70, \"price\" : 899, \"Discount\": \"49%\", },\n",
        "           12630 : {\"Product Name\" : \"shoes\", \"quantity\" : 50, \"price\" : 999,\"Discount\": \"50% off\", \"Color\": \"white\",\"Sole\": \"Rubber\" }}"
      ],
      "execution_count": 32,
      "outputs": []
    },
    {
      "cell_type": "code",
      "metadata": {
        "id": "VvHVXhLT_8e3"
      },
      "source": [
        "import json"
      ],
      "execution_count": 42,
      "outputs": []
    },
    {
      "cell_type": "code",
      "metadata": {
        "id": "wObbHFmwAk5t"
      },
      "source": [
        "js = json.dumps(record)"
      ],
      "execution_count": 46,
      "outputs": []
    },
    {
      "cell_type": "code",
      "metadata": {
        "colab": {
          "base_uri": "https://localhost:8080/",
          "height": 160
        },
        "id": "v8gq5e3QBXRv",
        "outputId": "2705abe0-d111-4e21-88f7-940c1b06cd8e"
      },
      "source": [
        "js"
      ],
      "execution_count": 49,
      "outputs": [
        {
          "output_type": "execute_result",
          "data": {
            "application/vnd.google.colaboratory.intrinsic+json": {
              "type": "string"
            },
            "text/plain": [
              "'{\"12601\": {\"product name\": \"android\", \"Price\": 16000, \"quantity\": 300, \"Color\": \"Blue\", \"warrenty\": \"eleven months\"}, \"12602\": {\"product name\": \"Mac\", \"Price\": 50000, \"quantity\": 200, \"Color\": \"white\", \"warrenty\": \"one year\"}, \"12603\": {\"Product Name\": \"chocolate\", \"quantity\": 80, \"price\": 40, \"MFD\": 0.7619047619047619, \"exp\": \"four months from MFD\"}, \"12604\": {\"Product Name\": \"Drink\", \"quantity\": 70, \"price\": 30, \"MFD\": 0.5714285714285714, \"exp\": \"four months from MFD\"}, \"12605\": {\"Product Name\": \"Milk Cake\", \"quantity\": 30, \"price\": 50, \"Main Ingrediants\": \"milk, bread,vinegar\", \"type\": \"black Forest\"}, \"12606\": {\"Product Name\": \"candy\", \"quantity\": 100, \"price\": 20, \"MFD\": 0.6190476190476191, \"exp\": \"four months from MFD\", \"Flavour\": \"Mango\"}, \"12607\": {\"Product Name\": \"Chips\", \"quantity\": 70, \"price\": 10, \"MFD\": 1.2380952380952381, \"exp\": \"four months from MFD\"}, \"12608\": {\"Product Name\": \"Burger\", \"quantity\": 20, \"price\": 110, \"Discount\": \"five percent\", \"Ingrediants\": \"veg,bread,souce\", \"Type\": \"veg \"}, \"12609\": {\"Product Name\": \"pen\", \"quantity\": 80, \"price\": 10, \"company\": \"elkos\"}, \"12610\": {\"Product Name\": \"Notebook\", \"quantity\": 70, \"price\": 55, \"MFD\": 0.5714285714285714, \"pages\": 210}, \"12611\": {\"Product Name\": \"Book\", \"quantity\": 40, \"price\": 500, \"name of book\": \"let us C\", \"Publish Date\": 0.6666666666666666}, \"12612\": {\"Product Name\": \"Drink\", \"quantity\": 70, \"price\": 30, \"MFD\": 0.5714285714285714, \"exp\": \"four months from MFD\"}, \"12613\": {\"Product Name\": \"eye drop\", \"quantity\": 70, \"price\": 75, \"MFD\": 0.6, \"exp\": \"6 months from MFD\"}, \"12614\": {\"Product Name\": \"Karaoke mic\", \"quantity\": 20, \"price\": 600, \"Microphone\": \"Capacitance\"}, \"12615\": {\"Product Name\": \"Trousers\", \"quantity\": 20, \"price\": 300, \"Type\": \"fabric\"}, \"12616\": {\"Product Name\": \"table\", \"quantity\": 20, \"price\": 700, \"discount\": \"ten percent\", \"Color\": \"Brown\"}, \"12617\": {\"Product Name\": \"Magnifiers\", \"quantity\": 90, \"price\": 700, \"Color\": \"Silver\"}, \"12618\": {\"Product Name\": \"table\", \"quantity\": 20, \"price\": 700, \"Type\": \"Wooden\", \"Color\": \"Brown\"}, \"12619\": {\"Product Name\": \"Utensils\", \"quantity\": 50, \"price\": 700, \"type\": \"Metallic\", \"Color\": \"Brown\"}, \"12620\": {\"Product Name\": \"Bags\", \"quantity\": 20, \"price\": 1000, \"cloth type\": \"cotton mix\", \"Color\": \"Blue\"}, \"12621\": {\"Product Name\": \"Blankets\", \"quantity\": 70, \"price\": 900, \"rating\": \"four\", \"Color\": \"Brown\"}, \"12622\": {\"Product Name\": \"Pillow\", \"quantity\": 90, \"price\": 800, \"type\": \"Fabric\", \"Color\": \"Red\"}, \"12623\": {\"Product Name\": \"Chair\", \"quantity\": 80, \"price\": 400, \"discount\": \"ten percent\", \"Color\": \"Yellow\"}, \"12624\": {\"Product Name\": \"toys\", \"quantity\": 780, \"price\": 250, \"type\": \"electric\", \"Material used\": \"plastic, Rubber\"}, \"12625\": {\"Product Name\": \"table lamp\", \"quantity\": 20, \"price\": 800, \"Color\": \"Black\", \"type\": \"Battery\"}, \"12626\": {\"Product Name\": \"AC\", \"quantity\": 20, \"price\": 40000, \"discount\": \"thirty percent\", \"Color\": \"White\"}, \"12627\": {\"Product Name\": \"Cooler\", \"quantity\": 70, \"price\": 10000, \"Color\": \"Brown\"}, \"12628\": {\"Product Name\": \"Snacks and Branded foods\", \"quantity\": 50, \"Discount\": \"30%\", \"Price\": 999, \"Type\": \"Chilli + Goodness of Tomatoes\"}, \"12629\": {\"Product Name\": \"Biscuits & Cookies\", \"quantity\": 70, \"price\": 899, \"Discount\": \"49%\"}, \"12630\": {\"Product Name\": \"shoes\", \"quantity\": 50, \"price\": 999, \"Discount\": \"50% off\", \"Color\": \"white\", \"Sole\": \"Rubber\"}}'"
            ]
          },
          "metadata": {},
          "execution_count": 49
        }
      ]
    },
    {
      "cell_type": "code",
      "metadata": {
        "colab": {
          "base_uri": "https://localhost:8080/"
        },
        "id": "k_bgtbW7Bch8",
        "outputId": "90d95a1c-581d-4f87-89f1-8208b5e1cc3d"
      },
      "source": [
        "record"
      ],
      "execution_count": 50,
      "outputs": [
        {
          "output_type": "execute_result",
          "data": {
            "text/plain": [
              "{12601: {'Color': 'Blue',\n",
              "  'Price': 16000,\n",
              "  'product name': 'android',\n",
              "  'quantity': 300,\n",
              "  'warrenty': 'eleven months'},\n",
              " 12602: {'Color': 'white',\n",
              "  'Price': 50000,\n",
              "  'product name': 'Mac',\n",
              "  'quantity': 200,\n",
              "  'warrenty': 'one year'},\n",
              " 12603: {'MFD': 0.7619047619047619,\n",
              "  'Product Name': 'chocolate',\n",
              "  'exp': 'four months from MFD',\n",
              "  'price': 40,\n",
              "  'quantity': 80},\n",
              " 12604: {'MFD': 0.5714285714285714,\n",
              "  'Product Name': 'Drink',\n",
              "  'exp': 'four months from MFD',\n",
              "  'price': 30,\n",
              "  'quantity': 70},\n",
              " 12605: {'Main Ingrediants': 'milk, bread,vinegar',\n",
              "  'Product Name': 'Milk Cake',\n",
              "  'price': 50,\n",
              "  'quantity': 30,\n",
              "  'type': 'black Forest'},\n",
              " 12606: {'Flavour': 'Mango',\n",
              "  'MFD': 0.6190476190476191,\n",
              "  'Product Name': 'candy',\n",
              "  'exp': 'four months from MFD',\n",
              "  'price': 20,\n",
              "  'quantity': 100},\n",
              " 12607: {'MFD': 1.2380952380952381,\n",
              "  'Product Name': 'Chips',\n",
              "  'exp': 'four months from MFD',\n",
              "  'price': 10,\n",
              "  'quantity': 70},\n",
              " 12608: {'Discount': 'five percent',\n",
              "  'Ingrediants': 'veg,bread,souce',\n",
              "  'Product Name': 'Burger',\n",
              "  'Type': 'veg ',\n",
              "  'price': 110,\n",
              "  'quantity': 20},\n",
              " 12609: {'Product Name': 'pen',\n",
              "  'company': 'elkos',\n",
              "  'price': 10,\n",
              "  'quantity': 80},\n",
              " 12610: {'MFD': 0.5714285714285714,\n",
              "  'Product Name': 'Notebook',\n",
              "  'pages': 210,\n",
              "  'price': 55,\n",
              "  'quantity': 70},\n",
              " 12611: {'Product Name': 'Book',\n",
              "  'Publish Date': 0.6666666666666666,\n",
              "  'name of book': 'let us C',\n",
              "  'price': 500,\n",
              "  'quantity': 40},\n",
              " 12612: {'MFD': 0.5714285714285714,\n",
              "  'Product Name': 'Drink',\n",
              "  'exp': 'four months from MFD',\n",
              "  'price': 30,\n",
              "  'quantity': 70},\n",
              " 12613: {'MFD': 0.6,\n",
              "  'Product Name': 'eye drop',\n",
              "  'exp': '6 months from MFD',\n",
              "  'price': 75,\n",
              "  'quantity': 70},\n",
              " 12614: {'Microphone': 'Capacitance',\n",
              "  'Product Name': 'Karaoke mic',\n",
              "  'price': 600,\n",
              "  'quantity': 20},\n",
              " 12615: {'Product Name': 'Trousers',\n",
              "  'Type': 'fabric',\n",
              "  'price': 300,\n",
              "  'quantity': 20},\n",
              " 12616: {'Color': 'Brown',\n",
              "  'Product Name': 'table',\n",
              "  'discount': 'ten percent',\n",
              "  'price': 700,\n",
              "  'quantity': 20},\n",
              " 12617: {'Color': 'Silver',\n",
              "  'Product Name': 'Magnifiers',\n",
              "  'price': 700,\n",
              "  'quantity': 90},\n",
              " 12618: {'Color': 'Brown',\n",
              "  'Product Name': 'table',\n",
              "  'Type': 'Wooden',\n",
              "  'price': 700,\n",
              "  'quantity': 20},\n",
              " 12619: {'Color': 'Brown',\n",
              "  'Product Name': 'Utensils',\n",
              "  'price': 700,\n",
              "  'quantity': 50,\n",
              "  'type': 'Metallic'},\n",
              " 12620: {'Color': 'Blue',\n",
              "  'Product Name': 'Bags',\n",
              "  'cloth type': 'cotton mix',\n",
              "  'price': 1000,\n",
              "  'quantity': 20},\n",
              " 12621: {'Color': 'Brown',\n",
              "  'Product Name': 'Blankets',\n",
              "  'price': 900,\n",
              "  'quantity': 70,\n",
              "  'rating': 'four'},\n",
              " 12622: {'Color': 'Red',\n",
              "  'Product Name': 'Pillow',\n",
              "  'price': 800,\n",
              "  'quantity': 90,\n",
              "  'type': 'Fabric'},\n",
              " 12623: {'Color': 'Yellow',\n",
              "  'Product Name': 'Chair',\n",
              "  'discount': 'ten percent',\n",
              "  'price': 400,\n",
              "  'quantity': 80},\n",
              " 12624: {'Material used': 'plastic, Rubber',\n",
              "  'Product Name': 'toys',\n",
              "  'price': 250,\n",
              "  'quantity': 780,\n",
              "  'type': 'electric'},\n",
              " 12625: {'Color': 'Black',\n",
              "  'Product Name': 'table lamp',\n",
              "  'price': 800,\n",
              "  'quantity': 20,\n",
              "  'type': 'Battery'},\n",
              " 12626: {'Color': 'White',\n",
              "  'Product Name': 'AC',\n",
              "  'discount': 'thirty percent',\n",
              "  'price': 40000,\n",
              "  'quantity': 20},\n",
              " 12627: {'Color': 'Brown',\n",
              "  'Product Name': 'Cooler',\n",
              "  'price': 10000,\n",
              "  'quantity': 70},\n",
              " 12628: {'Discount': '30%',\n",
              "  'Price': 999,\n",
              "  'Product Name': 'Snacks and Branded foods',\n",
              "  'Type': 'Chilli + Goodness of Tomatoes',\n",
              "  'quantity': 50},\n",
              " 12629: {'Discount': '49%',\n",
              "  'Product Name': 'Biscuits & Cookies',\n",
              "  'price': 899,\n",
              "  'quantity': 70},\n",
              " 12630: {'Color': 'white',\n",
              "  'Discount': '50% off',\n",
              "  'Product Name': 'shoes',\n",
              "  'Sole': 'Rubber',\n",
              "  'price': 999,\n",
              "  'quantity': 50}}"
            ]
          },
          "metadata": {},
          "execution_count": 50
        }
      ]
    },
    {
      "cell_type": "code",
      "metadata": {
        "colab": {
          "base_uri": "https://localhost:8080/"
        },
        "id": "Gzt1c7h4DbiF",
        "outputId": "c0d685f1-3ce8-4baa-88de-72d862c4ee4b"
      },
      "source": [
        "type(record)"
      ],
      "execution_count": 53,
      "outputs": [
        {
          "output_type": "execute_result",
          "data": {
            "text/plain": [
              "dict"
            ]
          },
          "metadata": {},
          "execution_count": 53
        }
      ]
    },
    {
      "cell_type": "code",
      "metadata": {
        "id": "0LV4wuqJBl7D"
      },
      "source": [
        "fd = open(\"record.json\", 'w')\n",
        "fd.write(js)\n",
        "fd.close()"
      ],
      "execution_count": 51,
      "outputs": []
    },
    {
      "cell_type": "markdown",
      "metadata": {
        "id": "LOChKoE3Cci8"
      },
      "source": [
        "for adding item in record"
      ]
    },
    {
      "cell_type": "code",
      "metadata": {
        "id": "FzhV_h5yERXs"
      },
      "source": [
        "fd = open(\"record.json\", 'r')\n",
        "r = fd.read()\n",
        "fd.close()"
      ],
      "execution_count": 56,
      "outputs": []
    },
    {
      "cell_type": "code",
      "metadata": {
        "id": "2OPa6yrpEmJb"
      },
      "source": [
        "record = json.loads(r)"
      ],
      "execution_count": 57,
      "outputs": []
    },
    {
      "cell_type": "code",
      "metadata": {
        "colab": {
          "base_uri": "https://localhost:8080/"
        },
        "id": "n6FO5KoVEr-x",
        "outputId": "2e1d6a79-25ef-4a83-ec82-313245172507"
      },
      "source": [
        "prod_id = str(input(\"Enter product ID: \"))\n",
        "name = str(input(\"Enter name of item: \"))\n",
        "price= int(input(\"Enter Price: \"))\n",
        "Quantity = int(input(\"Enter product quantity: \"))\n",
        "\n",
        "record[prod_id]= {'prod_id': prod_id, 'name': name, 'price': price, 'Quantity': Quantity}\n",
        "\n",
        "js = json.dumps(record)\n",
        "fd = open(\"record.json\", 'w')\n",
        "fd.close()\n",
        "\n",
        "print(\"Data is added Successfully! \")"
      ],
      "execution_count": 70,
      "outputs": [
        {
          "output_type": "stream",
          "name": "stdout",
          "text": [
            "Enter product ID: 12631\n",
            "Enter name of item: choco\n",
            "Enter Price: 54\n",
            "Enter product quantity: 79\n",
            "Data is added Successfully! \n"
          ]
        }
      ]
    },
    {
      "cell_type": "code",
      "metadata": {
        "colab": {
          "base_uri": "https://localhost:8080/"
        },
        "id": "iXdqdFRnHt3O",
        "outputId": "5eecd6e6-c3b7-43d4-ed7d-bb3a0dfaa627"
      },
      "source": [
        "record"
      ],
      "execution_count": 71,
      "outputs": [
        {
          "output_type": "execute_result",
          "data": {
            "text/plain": [
              "{'12601': {'Color': 'Blue',\n",
              "  'Price': 16000,\n",
              "  'product name': 'android',\n",
              "  'quantity': 300,\n",
              "  'warrenty': 'eleven months'},\n",
              " '12602': {'Color': 'white',\n",
              "  'Price': 50000,\n",
              "  'product name': 'Mac',\n",
              "  'quantity': 200,\n",
              "  'warrenty': 'one year'},\n",
              " '12603': {'MFD': 0.7619047619047619,\n",
              "  'Product Name': 'chocolate',\n",
              "  'exp': 'four months from MFD',\n",
              "  'price': 40,\n",
              "  'quantity': 80},\n",
              " '12604': {'MFD': 0.5714285714285714,\n",
              "  'Product Name': 'Drink',\n",
              "  'exp': 'four months from MFD',\n",
              "  'price': 30,\n",
              "  'quantity': 70},\n",
              " '12605': {'Main Ingrediants': 'milk, bread,vinegar',\n",
              "  'Product Name': 'Milk Cake',\n",
              "  'price': 50,\n",
              "  'quantity': 30,\n",
              "  'type': 'black Forest'},\n",
              " '12606': {'Flavour': 'Mango',\n",
              "  'MFD': 0.6190476190476191,\n",
              "  'Product Name': 'candy',\n",
              "  'exp': 'four months from MFD',\n",
              "  'price': 20,\n",
              "  'quantity': 100},\n",
              " '12607': {'MFD': 1.2380952380952381,\n",
              "  'Product Name': 'Chips',\n",
              "  'exp': 'four months from MFD',\n",
              "  'price': 10,\n",
              "  'quantity': 70},\n",
              " '12608': {'Discount': 'five percent',\n",
              "  'Ingrediants': 'veg,bread,souce',\n",
              "  'Product Name': 'Burger',\n",
              "  'Type': 'veg ',\n",
              "  'price': 110,\n",
              "  'quantity': 20},\n",
              " '12609': {'Product Name': 'pen',\n",
              "  'company': 'elkos',\n",
              "  'price': 10,\n",
              "  'quantity': 80},\n",
              " '12610': {'MFD': 0.5714285714285714,\n",
              "  'Product Name': 'Notebook',\n",
              "  'pages': 210,\n",
              "  'price': 55,\n",
              "  'quantity': 70},\n",
              " '12611': {'Product Name': 'Book',\n",
              "  'Publish Date': 0.6666666666666666,\n",
              "  'name of book': 'let us C',\n",
              "  'price': 500,\n",
              "  'quantity': 40},\n",
              " '12612': {'MFD': 0.5714285714285714,\n",
              "  'Product Name': 'Drink',\n",
              "  'exp': 'four months from MFD',\n",
              "  'price': 30,\n",
              "  'quantity': 70},\n",
              " '12613': {'MFD': 0.6,\n",
              "  'Product Name': 'eye drop',\n",
              "  'exp': '6 months from MFD',\n",
              "  'price': 75,\n",
              "  'quantity': 70},\n",
              " '12614': {'Microphone': 'Capacitance',\n",
              "  'Product Name': 'Karaoke mic',\n",
              "  'price': 600,\n",
              "  'quantity': 20},\n",
              " '12615': {'Product Name': 'Trousers',\n",
              "  'Type': 'fabric',\n",
              "  'price': 300,\n",
              "  'quantity': 20},\n",
              " '12616': {'Color': 'Brown',\n",
              "  'Product Name': 'table',\n",
              "  'discount': 'ten percent',\n",
              "  'price': 700,\n",
              "  'quantity': 20},\n",
              " '12617': {'Color': 'Silver',\n",
              "  'Product Name': 'Magnifiers',\n",
              "  'price': 700,\n",
              "  'quantity': 90},\n",
              " '12618': {'Color': 'Brown',\n",
              "  'Product Name': 'table',\n",
              "  'Type': 'Wooden',\n",
              "  'price': 700,\n",
              "  'quantity': 20},\n",
              " '12619': {'Color': 'Brown',\n",
              "  'Product Name': 'Utensils',\n",
              "  'price': 700,\n",
              "  'quantity': 50,\n",
              "  'type': 'Metallic'},\n",
              " '12620': {'Color': 'Blue',\n",
              "  'Product Name': 'Bags',\n",
              "  'cloth type': 'cotton mix',\n",
              "  'price': 1000,\n",
              "  'quantity': 20},\n",
              " '12621': {'Color': 'Brown',\n",
              "  'Product Name': 'Blankets',\n",
              "  'price': 900,\n",
              "  'quantity': 70,\n",
              "  'rating': 'four'},\n",
              " '12622': {'Color': 'Red',\n",
              "  'Product Name': 'Pillow',\n",
              "  'price': 800,\n",
              "  'quantity': 90,\n",
              "  'type': 'Fabric'},\n",
              " '12623': {'Color': 'Yellow',\n",
              "  'Product Name': 'Chair',\n",
              "  'discount': 'ten percent',\n",
              "  'price': 400,\n",
              "  'quantity': 80},\n",
              " '12624': {'Material used': 'plastic, Rubber',\n",
              "  'Product Name': 'toys',\n",
              "  'price': 250,\n",
              "  'quantity': 780,\n",
              "  'type': 'electric'},\n",
              " '12625': {'Color': 'Black',\n",
              "  'Product Name': 'table lamp',\n",
              "  'price': 800,\n",
              "  'quantity': 20,\n",
              "  'type': 'Battery'},\n",
              " '12626': {'Color': 'White',\n",
              "  'Product Name': 'AC',\n",
              "  'discount': 'thirty percent',\n",
              "  'price': 40000,\n",
              "  'quantity': 20},\n",
              " '12627': {'Color': 'Brown',\n",
              "  'Product Name': 'Cooler',\n",
              "  'price': 10000,\n",
              "  'quantity': 70},\n",
              " '12628': {'Discount': '30%',\n",
              "  'Price': 999,\n",
              "  'Product Name': 'Snacks and Branded foods',\n",
              "  'Type': 'Chilli + Goodness of Tomatoes',\n",
              "  'quantity': 50},\n",
              " '12629': {'Discount': '49%',\n",
              "  'Product Name': 'Biscuits & Cookies',\n",
              "  'price': 899,\n",
              "  'quantity': 70},\n",
              " '12630': {'Color': 'white',\n",
              "  'Discount': '50% off',\n",
              "  'Product Name': 'shoes',\n",
              "  'Sole': 'Rubber',\n",
              "  'price': 999,\n",
              "  'quantity': 50},\n",
              " '12631': {'Quantity': 79, 'name': 'choco', 'price': 54, 'prod_id': '12631'}}"
            ]
          },
          "metadata": {},
          "execution_count": 71
        }
      ]
    },
    {
      "cell_type": "markdown",
      "metadata": {
        "id": "xujqPhSvIEX8"
      },
      "source": [
        "For Purchase\n"
      ]
    },
    {
      "cell_type": "code",
      "metadata": {
        "colab": {
          "base_uri": "https://localhost:8080/",
          "height": 275
        },
        "id": "PEv7yu9PIqKp",
        "outputId": "da917686-af62-4212-ae74-b13da3f89bf6"
      },
      "source": [
        "ui_prod =str(input(\"Enter the product ID: \"))\n",
        "ui_quant = int(input(\"Enter th quantity: \"))\n",
        "\n",
        "print(\"Product Name : \", record[ui_prod]['name'])\n",
        "print(\"Product quantity : \", record[ui_quant]['Quantity'])\n",
        "print(\"Billing amount: \", record[ui_pord]['price']* ui_quant)"
      ],
      "execution_count": 72,
      "outputs": [
        {
          "output_type": "stream",
          "name": "stdout",
          "text": [
            "Enter the product ID: 12631\n",
            "Enter th quantity: 3\n",
            "Product Name :  choco\n"
          ]
        },
        {
          "output_type": "error",
          "ename": "KeyError",
          "evalue": "ignored",
          "traceback": [
            "\u001b[0;31m---------------------------------------------------------------------------\u001b[0m",
            "\u001b[0;31mKeyError\u001b[0m                                  Traceback (most recent call last)",
            "\u001b[0;32m<ipython-input-72-d7daa0f9614f>\u001b[0m in \u001b[0;36m<module>\u001b[0;34m()\u001b[0m\n\u001b[1;32m      3\u001b[0m \u001b[0;34m\u001b[0m\u001b[0m\n\u001b[1;32m      4\u001b[0m \u001b[0mprint\u001b[0m\u001b[0;34m(\u001b[0m\u001b[0;34m\"Product Name : \"\u001b[0m\u001b[0;34m,\u001b[0m \u001b[0mrecord\u001b[0m\u001b[0;34m[\u001b[0m\u001b[0mui_prod\u001b[0m\u001b[0;34m]\u001b[0m\u001b[0;34m[\u001b[0m\u001b[0;34m'name'\u001b[0m\u001b[0;34m]\u001b[0m\u001b[0;34m)\u001b[0m\u001b[0;34m\u001b[0m\u001b[0;34m\u001b[0m\u001b[0m\n\u001b[0;32m----> 5\u001b[0;31m \u001b[0mprint\u001b[0m\u001b[0;34m(\u001b[0m\u001b[0;34m\"Product quantity : \"\u001b[0m\u001b[0;34m,\u001b[0m \u001b[0mrecord\u001b[0m\u001b[0;34m[\u001b[0m\u001b[0mui_quant\u001b[0m\u001b[0;34m]\u001b[0m\u001b[0;34m[\u001b[0m\u001b[0;34m'Quantity'\u001b[0m\u001b[0;34m]\u001b[0m\u001b[0;34m)\u001b[0m\u001b[0;34m\u001b[0m\u001b[0;34m\u001b[0m\u001b[0m\n\u001b[0m\u001b[1;32m      6\u001b[0m \u001b[0mprint\u001b[0m\u001b[0;34m(\u001b[0m\u001b[0;34m\"Billing amount: \"\u001b[0m\u001b[0;34m,\u001b[0m \u001b[0mrecord\u001b[0m\u001b[0;34m[\u001b[0m\u001b[0mui_pord\u001b[0m\u001b[0;34m]\u001b[0m\u001b[0;34m[\u001b[0m\u001b[0;34m'price'\u001b[0m\u001b[0;34m]\u001b[0m\u001b[0;34m*\u001b[0m \u001b[0mui_quant\u001b[0m\u001b[0;34m)\u001b[0m\u001b[0;34m\u001b[0m\u001b[0;34m\u001b[0m\u001b[0m\n",
            "\u001b[0;31mKeyError\u001b[0m: 3"
          ]
        }
      ]
    }
  ]
}